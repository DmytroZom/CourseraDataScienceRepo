{
 "cells": [
  {
   "cell_type": "markdown",
   "id": "308394c0-132b-4fda-ba68-41b27b475bcd",
   "metadata": {},
   "source": [
    "# Data Science Tools and Ecosystem"
   ]
  },
  {
   "cell_type": "markdown",
   "id": "233c85dc-2daf-4e24-bc21-7a3e37eeefdb",
   "metadata": {},
   "source": [
    "In this notebook, Data Science Tools and Ecosystem are summarized."
   ]
  },
  {
   "cell_type": "markdown",
   "id": "48ae0e06-5e46-461f-add1-66848afd6085",
   "metadata": {},
   "source": [
    "*Objectives*:\n",
    "- Create markdown cell with title of the notebook\n",
    "- Create a markdown cell for an introduction\n",
    "- Create a markdown cell to list data science languages\n",
    "- Create a markdown cell to list data science libraries\n",
    "- Create a markdown cell with a table of Data Science tools"
   ]
  },
  {
   "cell_type": "markdown",
   "id": "5ae96abf-6093-450f-9b72-a149293fc228",
   "metadata": {},
   "source": [
    "Some of the popular languages that Data Scientists use are:\n",
    "1. R\n",
    "2. Julia\n",
    "3. Python"
   ]
  },
  {
   "cell_type": "markdown",
   "id": "a76b9092-5f83-46db-895e-9529b8736600",
   "metadata": {},
   "source": [
    "Some of the commonly used libraries used by Data Scientists include:\n",
    "1. Matplotlib\n",
    "2. NumPy\n",
    "3. Pandas"
   ]
  },
  {
   "cell_type": "markdown",
   "id": "e8322797-5042-47b0-9ae2-0d7f605fdbdc",
   "metadata": {},
   "source": [
    "|Data Science Tools|\n",
    "|---|\n",
    "|RStudio|\n",
    "|VS Code|\n",
    "|Jupyter Notebook|"
   ]
  },
  {
   "cell_type": "markdown",
   "id": "5b4ccebb-458f-4ddd-87d7-af2b8338e75e",
   "metadata": {},
   "source": [
    "### Below are a few examples of evaluating arithmetic expressions in Python"
   ]
  },
  {
   "cell_type": "code",
   "execution_count": 1,
   "id": "38cb3961-85e1-4efe-b08e-a982b9a1d120",
   "metadata": {
    "tags": []
   },
   "outputs": [
    {
     "data": {
      "text/plain": [
       "17"
      ]
     },
     "execution_count": 1,
     "metadata": {},
     "output_type": "execute_result"
    }
   ],
   "source": [
    "# This a simple arithmetic expression to mutiply then add integers\n",
    "(3*4)+5"
   ]
  },
  {
   "cell_type": "code",
   "execution_count": 2,
   "id": "4ec474ed-1a4c-4fd5-aacc-1294cac3462b",
   "metadata": {
    "tags": []
   },
   "outputs": [
    {
     "data": {
      "text/plain": [
       "3.3333333333333335"
      ]
     },
     "execution_count": 2,
     "metadata": {},
     "output_type": "execute_result"
    }
   ],
   "source": [
    "# This will convert 200 minutes to hours by diving by 60\n",
    "200/60"
   ]
  },
  {
   "cell_type": "markdown",
   "id": "79abf88b-6737-4a78-afdb-1484e5b90d70",
   "metadata": {},
   "source": [
    "## Author\n",
    "Dmytro"
   ]
  },
  {
   "cell_type": "code",
   "execution_count": null,
   "id": "9a5ec410-9d15-4cff-9a8a-4a8c51fc4bb8",
   "metadata": {},
   "outputs": [],
   "source": []
  }
 ],
 "metadata": {
  "kernelspec": {
   "display_name": "Python",
   "language": "python",
   "name": "conda-env-python-py"
  },
  "language_info": {
   "codemirror_mode": {
    "name": "ipython",
    "version": 3
   },
   "file_extension": ".py",
   "mimetype": "text/x-python",
   "name": "python",
   "nbconvert_exporter": "python",
   "pygments_lexer": "ipython3",
   "version": "3.7.12"
  }
 },
 "nbformat": 4,
 "nbformat_minor": 5
}
